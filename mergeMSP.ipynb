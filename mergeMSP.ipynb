{
 "cells": [
  {
   "cell_type": "code",
   "execution_count": 1,
   "metadata": {},
   "outputs": [],
   "source": [
    "import glob\n",
    "from itertools import chain\n",
    "\n",
    "from matchms.importing import load_from_msp\n",
    "from matchms.exporting import save_as_msp   "
   ]
  },
  {
   "cell_type": "code",
   "execution_count": 2,
   "metadata": {},
   "outputs": [],
   "source": [
    "def read_filenames():\n",
    "    filenames = glob.glob('*.msp', recursive = True)\n",
    "    return filenames"
   ]
  },
  {
   "cell_type": "code",
   "execution_count": 3,
   "metadata": {},
   "outputs": [],
   "source": [
    "def read_spectra(filenames):\n",
    "    spectra = list(chain(*[load_from_msp(file) for file in filenames]))\n",
    "    return spectra"
   ]
  },
  {
   "cell_type": "code",
   "execution_count": 4,
   "metadata": {},
   "outputs": [],
   "source": [
    "def write_spectra(filenames, outfile):    \n",
    "    spectra = read_spectra(filenames)\n",
    "    outfilename = outfile + \".msp\"\n",
    "    save_as_msp(spectra, outfilename)"
   ]
  },
  {
   "cell_type": "code",
   "execution_count": 5,
   "metadata": {},
   "outputs": [],
   "source": [
    "def merge_spectra(outfilename):\n",
    "    filenames = read_filenames()\n",
    "    return write_spectra(filenames, outfilename)"
   ]
  },
  {
   "cell_type": "code",
   "execution_count": 6,
   "metadata": {},
   "outputs": [],
   "source": [
    "\n",
    "if __name__ == \"__main__\":\n",
    "    filename_extension = 'msp'\n",
    "    outfilename = 'spectra_merged'\n",
    "    merge_spectra(outfilename)"
   ]
  }
 ],
 "metadata": {
  "interpreter": {
   "hash": "4de6dada3e07712ef43c7e3e4ad9f69239f7d116b9f46ea858d9ac8208e99c9b"
  },
  "kernelspec": {
   "display_name": "Python 3.9.7 ('task1.1-conda')",
   "language": "python",
   "name": "python3"
  },
  "language_info": {
   "codemirror_mode": {
    "name": "ipython",
    "version": 3
   },
   "file_extension": ".py",
   "mimetype": "text/x-python",
   "name": "python",
   "nbconvert_exporter": "python",
   "pygments_lexer": "ipython3",
   "version": "3.9.12"
  },
  "orig_nbformat": 4
 },
 "nbformat": 4,
 "nbformat_minor": 2
}
